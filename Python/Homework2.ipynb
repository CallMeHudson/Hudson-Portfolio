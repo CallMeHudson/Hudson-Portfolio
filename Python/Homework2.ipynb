{
 "cells": [
  {
   "cell_type": "code",
   "execution_count": 1,
   "metadata": {},
   "outputs": [],
   "source": [
    "import pandas as pd\n",
    "import seaborn as sns\n",
    "import matplotlib.pyplot as plt\n",
    "import geopandas as gpd\n",
    "from shapely.geometry import Point\n",
    "%matplotlib inline"
   ]
  },
  {
   "cell_type": "code",
   "execution_count": 2,
   "metadata": {},
   "outputs": [
    {
     "data": {
      "text/html": [
       "<div>\n",
       "<style scoped>\n",
       "    .dataframe tbody tr th:only-of-type {\n",
       "        vertical-align: middle;\n",
       "    }\n",
       "\n",
       "    .dataframe tbody tr th {\n",
       "        vertical-align: top;\n",
       "    }\n",
       "\n",
       "    .dataframe thead th {\n",
       "        text-align: right;\n",
       "    }\n",
       "</style>\n",
       "<table border=\"1\" class=\"dataframe\">\n",
       "  <thead>\n",
       "    <tr style=\"text-align: right;\">\n",
       "      <th></th>\n",
       "      <th>latitude</th>\n",
       "      <th>longitude</th>\n",
       "      <th>altitude</th>\n",
       "      <th>speedmph</th>\n",
       "      <th>speedkmh</th>\n",
       "      <th>accuracy</th>\n",
       "    </tr>\n",
       "  </thead>\n",
       "  <tbody>\n",
       "    <tr>\n",
       "      <th>count</th>\n",
       "      <td>2850.000000</td>\n",
       "      <td>2850.000000</td>\n",
       "      <td>2850.000000</td>\n",
       "      <td>2850.000000</td>\n",
       "      <td>2850.000000</td>\n",
       "      <td>2850.000000</td>\n",
       "    </tr>\n",
       "    <tr>\n",
       "      <th>mean</th>\n",
       "      <td>41.663934</td>\n",
       "      <td>-87.307773</td>\n",
       "      <td>192.319649</td>\n",
       "      <td>39.329404</td>\n",
       "      <td>63.294246</td>\n",
       "      <td>10.458831</td>\n",
       "    </tr>\n",
       "    <tr>\n",
       "      <th>std</th>\n",
       "      <td>0.083421</td>\n",
       "      <td>0.254616</td>\n",
       "      <td>19.384816</td>\n",
       "      <td>18.335309</td>\n",
       "      <td>29.507759</td>\n",
       "      <td>6.429008</td>\n",
       "    </tr>\n",
       "    <tr>\n",
       "      <th>min</th>\n",
       "      <td>41.592181</td>\n",
       "      <td>-87.638856</td>\n",
       "      <td>171.000000</td>\n",
       "      <td>0.000000</td>\n",
       "      <td>0.000000</td>\n",
       "      <td>5.000000</td>\n",
       "    </tr>\n",
       "    <tr>\n",
       "      <th>25%</th>\n",
       "      <td>41.604792</td>\n",
       "      <td>-87.530962</td>\n",
       "      <td>182.000000</td>\n",
       "      <td>28.000000</td>\n",
       "      <td>45.000000</td>\n",
       "      <td>10.000000</td>\n",
       "    </tr>\n",
       "    <tr>\n",
       "      <th>50%</th>\n",
       "      <td>41.616590</td>\n",
       "      <td>-87.323511</td>\n",
       "      <td>185.000000</td>\n",
       "      <td>40.500000</td>\n",
       "      <td>65.200000</td>\n",
       "      <td>10.000000</td>\n",
       "    </tr>\n",
       "    <tr>\n",
       "      <th>75%</th>\n",
       "      <td>41.710130</td>\n",
       "      <td>-87.133026</td>\n",
       "      <td>191.000000</td>\n",
       "      <td>48.175000</td>\n",
       "      <td>77.475000</td>\n",
       "      <td>10.000000</td>\n",
       "    </tr>\n",
       "    <tr>\n",
       "      <th>max</th>\n",
       "      <td>41.877575</td>\n",
       "      <td>-86.754688</td>\n",
       "      <td>266.000000</td>\n",
       "      <td>100.500000</td>\n",
       "      <td>161.700000</td>\n",
       "      <td>98.216204</td>\n",
       "    </tr>\n",
       "  </tbody>\n",
       "</table>\n",
       "</div>"
      ],
      "text/plain": [
       "          latitude    longitude     altitude     speedmph     speedkmh  \\\n",
       "count  2850.000000  2850.000000  2850.000000  2850.000000  2850.000000   \n",
       "mean     41.663934   -87.307773   192.319649    39.329404    63.294246   \n",
       "std       0.083421     0.254616    19.384816    18.335309    29.507759   \n",
       "min      41.592181   -87.638856   171.000000     0.000000     0.000000   \n",
       "25%      41.604792   -87.530962   182.000000    28.000000    45.000000   \n",
       "50%      41.616590   -87.323511   185.000000    40.500000    65.200000   \n",
       "75%      41.710130   -87.133026   191.000000    48.175000    77.475000   \n",
       "max      41.877575   -86.754688   266.000000   100.500000   161.700000   \n",
       "\n",
       "          accuracy  \n",
       "count  2850.000000  \n",
       "mean     10.458831  \n",
       "std       6.429008  \n",
       "min       5.000000  \n",
       "25%      10.000000  \n",
       "50%      10.000000  \n",
       "75%      10.000000  \n",
       "max      98.216204  "
      ]
     },
     "execution_count": 2,
     "metadata": {},
     "output_type": "execute_result"
    }
   ],
   "source": [
    "GeoData = pd.read_csv('file1.csv', ',')\n",
    "GeoData.describe()"
   ]
  },
  {
   "cell_type": "code",
   "execution_count": 3,
   "metadata": {},
   "outputs": [
    {
     "name": "stdout",
     "output_type": "stream",
     "text": [
      "161.7\n",
      "0.0\n"
     ]
    }
   ],
   "source": [
    "print(GeoData['speedkmh'].max())\n",
    "print(GeoData['speedkmh'].min())"
   ]
  },
  {
   "cell_type": "code",
   "execution_count": 4,
   "metadata": {},
   "outputs": [
    {
     "data": {
      "image/png": "[encoded data removed]",
      "text/plain": [
       "<Figure size 432x288 with 1 Axes>"
      ]
     },
     "metadata": {},
     "output_type": "display_data"
    }
   ],
   "source": [
    "plt.scatter( GeoData['speedkmh'], GeoData['accuracy']);\n",
    "plt.ylabel('Accuracy');\n",
    "plt.xlabel('Speed (Kmh)');\n",
    "plt.title('Accuracy vs. Speed (Kmh)');"
   ]
  },
  {
   "cell_type": "code",
   "execution_count": 5,
   "metadata": {},
   "outputs": [
    {
     "name": "stderr",
     "output_type": "stream",
     "text": [
      "C:\\ProgramData\\Anaconda3\\lib\\site-packages\\matplotlib\\axes\\_axes.py:6462: UserWarning: The 'normed' kwarg is deprecated, and has been replaced by the 'density' kwarg.\n",
      "  warnings.warn(\"The 'normed' kwarg is deprecated, and has been \"\n"
     ]
    },
    {
     "data": {
      "image/png": "[encoded data removed]",
      "text/plain": [
       "<Figure size 432x288 with 1 Axes>"
      ]
     },
     "metadata": {},
     "output_type": "display_data"
    }
   ],
   "source": [
    "ax = sns.distplot(GeoData['speedkmh']);\n",
    "ax.set(xlabel='Speed (Kmh)', ylabel='Frequency');"
   ]
  },
  {
   "cell_type": "markdown",
   "metadata": {},
   "source": [
    "### Outlier Detection Discussion: Speed Kmh\n",
    "Lets look at the information we have above: We have the summary statistics as well as a comparison between speed and accuracy. The summary statistics show that the `Speed (Kmh)` data has a relatively large standard deviation at 29.507, which is the largest of all the sets of data. This is represented in the histogram of`Speed (Kmh)` where we see a trimodal graph. Logically this makes sense as with any car drive there are different speeds that one maintains, such as city and highway speed. The graph that gives the most reason to not look at speed for outlier detection is the graph comparing `Accuracy` and `Speed (Kmh)` ideally outlier detection discovers errors in our data. The measurement of `Accuracy` does this and when graphed with speed we see that `Accuracy` only becomes dangerously high at higher speed and only a few times at a speed of 0. To conclude, it does not seem as if speed is an ideal variable to base our Outlier detecion off of."
   ]
  },
  {
   "cell_type": "code",
   "execution_count": 6,
   "metadata": {},
   "outputs": [
    {
     "name": "stderr",
     "output_type": "stream",
     "text": [
      "C:\\ProgramData\\Anaconda3\\lib\\site-packages\\matplotlib\\axes\\_axes.py:6462: UserWarning: The 'normed' kwarg is deprecated, and has been replaced by the 'density' kwarg.\n",
      "  warnings.warn(\"The 'normed' kwarg is deprecated, and has been \"\n"
     ]
    },
    {
     "data": {
      "text/plain": [
       "[(0, 100)]"
      ]
     },
     "execution_count": 6,
     "metadata": {},
     "output_type": "execute_result"
    },
    {
     "data": {
      "image/png": "[encoded data removed]",
      "text/plain": [
       "<Figure size 432x288 with 1 Axes>"
      ]
     },
     "metadata": {},
     "output_type": "display_data"
    }
   ],
   "source": [
    "\n",
    "ax1 = sns.distplot(GeoData['accuracy'])\n",
    "ax1.set(xlim = (0,100))"
   ]
  },
  {
   "cell_type": "markdown",
   "metadata": {},
   "source": [
    "### Outlier Detection Discussion: Accuracy\n",
    "As foreshadowed in our last discussion we see that `Accuracy` itself is a measurement of the validity of our data. This point is reassured by the histogram and summary statistics of `Accuracy`. The mean is 10.46 and the standard deviation is 6.43 this would mean that even as much as three standard deviations would not exceed 30, a number that does not represent half of the entire range of possible values. What this means is that `Accuracy` is both logically the best choice for outlier detection but also is the statistical choice."
   ]
  },
  {
   "cell_type": "code",
   "execution_count": 7,
   "metadata": {},
   "outputs": [],
   "source": [
    "### For outlier detection I decided to remove values that were two standard deviations to the mean, this was mostly inspired by the extremely narrow accuracy histogram\n",
    "MuSpeed = GeoData['accuracy'].mean()\n",
    "OutlierMark = 2 * GeoData['accuracy'].std()\n",
    "CleanGeoData = GeoData.loc[(GeoData['accuracy'] > (MuSpeed - OutlierMark)) \\\n",
    "                                 & (GeoData['accuracy'] < (MuSpeed + OutlierMark))]"
   ]
  },
  {
   "cell_type": "code",
   "execution_count": 8,
   "metadata": {},
   "outputs": [
    {
     "data": {
      "text/html": [
       "<div>\n",
       "<style scoped>\n",
       "    .dataframe tbody tr th:only-of-type {\n",
       "        vertical-align: middle;\n",
       "    }\n",
       "\n",
       "    .dataframe tbody tr th {\n",
       "        vertical-align: top;\n",
       "    }\n",
       "\n",
       "    .dataframe thead th {\n",
       "        text-align: right;\n",
       "    }\n",
       "</style>\n",
       "<table border=\"1\" class=\"dataframe\">\n",
       "  <thead>\n",
       "    <tr style=\"text-align: right;\">\n",
       "      <th></th>\n",
       "      <th>latitude</th>\n",
       "      <th>longitude</th>\n",
       "      <th>altitude</th>\n",
       "      <th>speedmph</th>\n",
       "      <th>speedkmh</th>\n",
       "      <th>accuracy</th>\n",
       "    </tr>\n",
       "  </thead>\n",
       "  <tbody>\n",
       "    <tr>\n",
       "      <th>count</th>\n",
       "      <td>2737.000000</td>\n",
       "      <td>2737.000000</td>\n",
       "      <td>2737.000000</td>\n",
       "      <td>2737.000000</td>\n",
       "      <td>2737.000000</td>\n",
       "      <td>2737.000000</td>\n",
       "    </tr>\n",
       "    <tr>\n",
       "      <th>mean</th>\n",
       "      <td>41.664843</td>\n",
       "      <td>-87.313425</td>\n",
       "      <td>191.561564</td>\n",
       "      <td>38.750457</td>\n",
       "      <td>62.362404</td>\n",
       "      <td>9.403229</td>\n",
       "    </tr>\n",
       "    <tr>\n",
       "      <th>std</th>\n",
       "      <td>0.083399</td>\n",
       "      <td>0.251500</td>\n",
       "      <td>17.859321</td>\n",
       "      <td>17.903881</td>\n",
       "      <td>28.813276</td>\n",
       "      <td>2.499493</td>\n",
       "    </tr>\n",
       "    <tr>\n",
       "      <th>min</th>\n",
       "      <td>41.592379</td>\n",
       "      <td>-87.638186</td>\n",
       "      <td>171.000000</td>\n",
       "      <td>0.000000</td>\n",
       "      <td>0.000000</td>\n",
       "      <td>5.000000</td>\n",
       "    </tr>\n",
       "    <tr>\n",
       "      <th>25%</th>\n",
       "      <td>41.604842</td>\n",
       "      <td>-87.532677</td>\n",
       "      <td>182.000000</td>\n",
       "      <td>27.800000</td>\n",
       "      <td>44.800000</td>\n",
       "      <td>10.000000</td>\n",
       "    </tr>\n",
       "    <tr>\n",
       "      <th>50%</th>\n",
       "      <td>41.616239</td>\n",
       "      <td>-87.324962</td>\n",
       "      <td>185.000000</td>\n",
       "      <td>39.600000</td>\n",
       "      <td>63.700000</td>\n",
       "      <td>10.000000</td>\n",
       "    </tr>\n",
       "    <tr>\n",
       "      <th>75%</th>\n",
       "      <td>41.711694</td>\n",
       "      <td>-87.138243</td>\n",
       "      <td>191.000000</td>\n",
       "      <td>46.700000</td>\n",
       "      <td>75.100000</td>\n",
       "      <td>10.000000</td>\n",
       "    </tr>\n",
       "    <tr>\n",
       "      <th>max</th>\n",
       "      <td>41.872075</td>\n",
       "      <td>-86.754688</td>\n",
       "      <td>266.000000</td>\n",
       "      <td>96.500000</td>\n",
       "      <td>155.300000</td>\n",
       "      <td>23.152697</td>\n",
       "    </tr>\n",
       "  </tbody>\n",
       "</table>\n",
       "</div>"
      ],
      "text/plain": [
       "          latitude    longitude     altitude     speedmph     speedkmh  \\\n",
       "count  2737.000000  2737.000000  2737.000000  2737.000000  2737.000000   \n",
       "mean     41.664843   -87.313425   191.561564    38.750457    62.362404   \n",
       "std       0.083399     0.251500    17.859321    17.903881    28.813276   \n",
       "min      41.592379   -87.638186   171.000000     0.000000     0.000000   \n",
       "25%      41.604842   -87.532677   182.000000    27.800000    44.800000   \n",
       "50%      41.616239   -87.324962   185.000000    39.600000    63.700000   \n",
       "75%      41.711694   -87.138243   191.000000    46.700000    75.100000   \n",
       "max      41.872075   -86.754688   266.000000    96.500000   155.300000   \n",
       "\n",
       "          accuracy  \n",
       "count  2737.000000  \n",
       "mean      9.403229  \n",
       "std       2.499493  \n",
       "min       5.000000  \n",
       "25%      10.000000  \n",
       "50%      10.000000  \n",
       "75%      10.000000  \n",
       "max      23.152697  "
      ]
     },
     "execution_count": 8,
     "metadata": {},
     "output_type": "execute_result"
    }
   ],
   "source": [
    "CleanGeoData.describe()\n",
    "###Compare with prior"
   ]
  },
  {
   "cell_type": "code",
   "execution_count": 9,
   "metadata": {},
   "outputs": [
    {
     "name": "stderr",
     "output_type": "stream",
     "text": [
      "C:\\ProgramData\\Anaconda3\\lib\\site-packages\\matplotlib\\axes\\_axes.py:6462: UserWarning: The 'normed' kwarg is deprecated, and has been replaced by the 'density' kwarg.\n",
      "  warnings.warn(\"The 'normed' kwarg is deprecated, and has been \"\n"
     ]
    },
    {
     "data": {
      "image/png": "[encoded data removed]",
      "text/plain": [
       "<Figure size 432x288 with 1 Axes>"
      ]
     },
     "metadata": {},
     "output_type": "display_data"
    }
   ],
   "source": [
    "ax = sns.distplot(CleanGeoData['speedkmh']);\n",
    "ax.set(xlabel='Speed (Kmh)', ylabel='Frequency', xlim = (0,175));"
   ]
  },
  {
   "cell_type": "markdown",
   "metadata": {},
   "source": [
    "### Compare the differences of the above graph with that of the one further above."
   ]
  },
  {
   "cell_type": "code",
   "execution_count": 11,
   "metadata": {},
   "outputs": [
    {
     "data": {
      "image/png": "[encoded data removed]",
      "text/plain": [
       "<Figure size 432x288 with 1 Axes>"
      ]
     },
     "metadata": {},
     "output_type": "display_data"
    }
   ],
   "source": [
    "plt.scatter( CleanGeoData['speedkmh'], CleanGeoData['accuracy']);\n",
    "plt.ylabel('Accuracy');\n",
    "plt.xlabel('Speed (Kmh)');\n",
    "plt.title('Accuracy vs. Speed (Kmh)');"
   ]
  },
  {
   "cell_type": "markdown",
   "metadata": {},
   "source": [
    "### Compare the differences of the above graph with that of the one further above"
   ]
  },
  {
   "cell_type": "code",
   "execution_count": 12,
   "metadata": {},
   "outputs": [
    {
     "data": {
      "text/html": [
       "<div>\n",
       "<style scoped>\n",
       "    .dataframe tbody tr th:only-of-type {\n",
       "        vertical-align: middle;\n",
       "    }\n",
       "\n",
       "    .dataframe tbody tr th {\n",
       "        vertical-align: top;\n",
       "    }\n",
       "\n",
       "    .dataframe thead th {\n",
       "        text-align: right;\n",
       "    }\n",
       "</style>\n",
       "<table border=\"1\" class=\"dataframe\">\n",
       "  <thead>\n",
       "    <tr style=\"text-align: right;\">\n",
       "      <th></th>\n",
       "      <th>latitude</th>\n",
       "      <th>longitude</th>\n",
       "      <th>altitude</th>\n",
       "      <th>speedmph</th>\n",
       "      <th>speedkmh</th>\n",
       "      <th>accuracy</th>\n",
       "    </tr>\n",
       "  </thead>\n",
       "  <tbody>\n",
       "    <tr>\n",
       "      <th>count</th>\n",
       "      <td>2169.000000</td>\n",
       "      <td>2169.000000</td>\n",
       "      <td>2169.000000</td>\n",
       "      <td>2169.000000</td>\n",
       "      <td>2169.000000</td>\n",
       "      <td>2169.0</td>\n",
       "    </tr>\n",
       "    <tr>\n",
       "      <th>mean</th>\n",
       "      <td>41.670269</td>\n",
       "      <td>-87.324261</td>\n",
       "      <td>192.547257</td>\n",
       "      <td>39.531397</td>\n",
       "      <td>63.619364</td>\n",
       "      <td>10.0</td>\n",
       "    </tr>\n",
       "    <tr>\n",
       "      <th>std</th>\n",
       "      <td>0.086020</td>\n",
       "      <td>0.262483</td>\n",
       "      <td>18.922514</td>\n",
       "      <td>17.813454</td>\n",
       "      <td>28.667566</td>\n",
       "      <td>0.0</td>\n",
       "    </tr>\n",
       "    <tr>\n",
       "      <th>min</th>\n",
       "      <td>41.592379</td>\n",
       "      <td>-87.638186</td>\n",
       "      <td>171.000000</td>\n",
       "      <td>0.000000</td>\n",
       "      <td>0.000000</td>\n",
       "      <td>10.0</td>\n",
       "    </tr>\n",
       "    <tr>\n",
       "      <th>25%</th>\n",
       "      <td>41.604724</td>\n",
       "      <td>-87.540583</td>\n",
       "      <td>182.000000</td>\n",
       "      <td>27.800000</td>\n",
       "      <td>44.700000</td>\n",
       "      <td>10.0</td>\n",
       "    </tr>\n",
       "    <tr>\n",
       "      <th>50%</th>\n",
       "      <td>41.619394</td>\n",
       "      <td>-87.378712</td>\n",
       "      <td>185.000000</td>\n",
       "      <td>41.400000</td>\n",
       "      <td>66.600000</td>\n",
       "      <td>10.0</td>\n",
       "    </tr>\n",
       "    <tr>\n",
       "      <th>75%</th>\n",
       "      <td>41.717789</td>\n",
       "      <td>-87.082345</td>\n",
       "      <td>193.000000</td>\n",
       "      <td>47.800000</td>\n",
       "      <td>77.000000</td>\n",
       "      <td>10.0</td>\n",
       "    </tr>\n",
       "    <tr>\n",
       "      <th>max</th>\n",
       "      <td>41.872075</td>\n",
       "      <td>-86.755283</td>\n",
       "      <td>266.000000</td>\n",
       "      <td>96.500000</td>\n",
       "      <td>155.300000</td>\n",
       "      <td>10.0</td>\n",
       "    </tr>\n",
       "  </tbody>\n",
       "</table>\n",
       "</div>"
      ],
      "text/plain": [
       "          latitude    longitude     altitude     speedmph     speedkmh  \\\n",
       "count  2169.000000  2169.000000  2169.000000  2169.000000  2169.000000   \n",
       "mean     41.670269   -87.324261   192.547257    39.531397    63.619364   \n",
       "std       0.086020     0.262483    18.922514    17.813454    28.667566   \n",
       "min      41.592379   -87.638186   171.000000     0.000000     0.000000   \n",
       "25%      41.604724   -87.540583   182.000000    27.800000    44.700000   \n",
       "50%      41.619394   -87.378712   185.000000    41.400000    66.600000   \n",
       "75%      41.717789   -87.082345   193.000000    47.800000    77.000000   \n",
       "max      41.872075   -86.755283   266.000000    96.500000   155.300000   \n",
       "\n",
       "       accuracy  \n",
       "count    2169.0  \n",
       "mean       10.0  \n",
       "std         0.0  \n",
       "min        10.0  \n",
       "25%        10.0  \n",
       "50%        10.0  \n",
       "75%        10.0  \n",
       "max        10.0  "
      ]
     },
     "execution_count": 12,
     "metadata": {},
     "output_type": "execute_result"
    }
   ],
   "source": [
    "CleanGeoData.loc[CleanGeoData['accuracy'] == 10].describe()"
   ]
  },
  {
   "cell_type": "code",
   "execution_count": 13,
   "metadata": {},
   "outputs": [
    {
     "data": {
      "text/html": [
       "<div>\n",
       "<style scoped>\n",
       "    .dataframe tbody tr th:only-of-type {\n",
       "        vertical-align: middle;\n",
       "    }\n",
       "\n",
       "    .dataframe tbody tr th {\n",
       "        vertical-align: top;\n",
       "    }\n",
       "\n",
       "    .dataframe thead th {\n",
       "        text-align: right;\n",
       "    }\n",
       "</style>\n",
       "<table border=\"1\" class=\"dataframe\">\n",
       "  <thead>\n",
       "    <tr style=\"text-align: right;\">\n",
       "      <th></th>\n",
       "      <th>latitude</th>\n",
       "      <th>longitude</th>\n",
       "      <th>altitude</th>\n",
       "      <th>speedmph</th>\n",
       "      <th>speedkmh</th>\n",
       "      <th>accuracy</th>\n",
       "    </tr>\n",
       "  </thead>\n",
       "  <tbody>\n",
       "    <tr>\n",
       "      <th>count</th>\n",
       "      <td>466.000000</td>\n",
       "      <td>466.000000</td>\n",
       "      <td>466.000000</td>\n",
       "      <td>466.000000</td>\n",
       "      <td>466.000000</td>\n",
       "      <td>466.0</td>\n",
       "    </tr>\n",
       "    <tr>\n",
       "      <th>mean</th>\n",
       "      <td>41.638673</td>\n",
       "      <td>-87.253372</td>\n",
       "      <td>186.856223</td>\n",
       "      <td>35.687339</td>\n",
       "      <td>57.431760</td>\n",
       "      <td>5.0</td>\n",
       "    </tr>\n",
       "    <tr>\n",
       "      <th>std</th>\n",
       "      <td>0.063612</td>\n",
       "      <td>0.181564</td>\n",
       "      <td>7.725863</td>\n",
       "      <td>17.845956</td>\n",
       "      <td>28.721005</td>\n",
       "      <td>0.0</td>\n",
       "    </tr>\n",
       "    <tr>\n",
       "      <th>min</th>\n",
       "      <td>41.596420</td>\n",
       "      <td>-87.635442</td>\n",
       "      <td>177.000000</td>\n",
       "      <td>0.000000</td>\n",
       "      <td>0.000000</td>\n",
       "      <td>5.0</td>\n",
       "    </tr>\n",
       "    <tr>\n",
       "      <th>25%</th>\n",
       "      <td>41.607517</td>\n",
       "      <td>-87.256538</td>\n",
       "      <td>183.000000</td>\n",
       "      <td>28.000000</td>\n",
       "      <td>45.000000</td>\n",
       "      <td>5.0</td>\n",
       "    </tr>\n",
       "    <tr>\n",
       "      <th>50%</th>\n",
       "      <td>41.613882</td>\n",
       "      <td>-87.220090</td>\n",
       "      <td>185.000000</td>\n",
       "      <td>29.200000</td>\n",
       "      <td>47.000000</td>\n",
       "      <td>5.0</td>\n",
       "    </tr>\n",
       "    <tr>\n",
       "      <th>75%</th>\n",
       "      <td>41.620652</td>\n",
       "      <td>-87.178734</td>\n",
       "      <td>188.000000</td>\n",
       "      <td>41.700000</td>\n",
       "      <td>67.075000</td>\n",
       "      <td>5.0</td>\n",
       "    </tr>\n",
       "    <tr>\n",
       "      <th>max</th>\n",
       "      <td>41.799261</td>\n",
       "      <td>-86.759924</td>\n",
       "      <td>258.000000</td>\n",
       "      <td>72.400000</td>\n",
       "      <td>116.500000</td>\n",
       "      <td>5.0</td>\n",
       "    </tr>\n",
       "  </tbody>\n",
       "</table>\n",
       "</div>"
      ],
      "text/plain": [
       "         latitude   longitude    altitude    speedmph    speedkmh  accuracy\n",
       "count  466.000000  466.000000  466.000000  466.000000  466.000000     466.0\n",
       "mean    41.638673  -87.253372  186.856223   35.687339   57.431760       5.0\n",
       "std      0.063612    0.181564    7.725863   17.845956   28.721005       0.0\n",
       "min     41.596420  -87.635442  177.000000    0.000000    0.000000       5.0\n",
       "25%     41.607517  -87.256538  183.000000   28.000000   45.000000       5.0\n",
       "50%     41.613882  -87.220090  185.000000   29.200000   47.000000       5.0\n",
       "75%     41.620652  -87.178734  188.000000   41.700000   67.075000       5.0\n",
       "max     41.799261  -86.759924  258.000000   72.400000  116.500000       5.0"
      ]
     },
     "execution_count": 13,
     "metadata": {},
     "output_type": "execute_result"
    }
   ],
   "source": [
    "CleanGeoData.loc[CleanGeoData['accuracy'] == 5].describe()"
   ]
  },
  {
   "cell_type": "code",
   "execution_count": 38,
   "metadata": {},
   "outputs": [
    {
     "name": "stderr",
     "output_type": "stream",
     "text": [
      "C:\\ProgramData\\Anaconda3\\lib\\site-packages\\ipykernel_launcher.py:1: SettingWithCopyWarning: \n",
      "A value is trying to be set on a copy of a slice from a DataFrame.\n",
      "Try using .loc[row_indexer,col_indexer] = value instead\n",
      "\n",
      "See the caveats in the documentation: http://pandas.pydata.org/pandas-docs/stable/indexing.html#indexing-view-versus-copy\n",
      "  \"\"\"Entry point for launching an IPython kernel.\n",
      "C:\\ProgramData\\Anaconda3\\lib\\site-packages\\ipykernel_launcher.py:2: SettingWithCopyWarning: \n",
      "A value is trying to be set on a copy of a slice from a DataFrame.\n",
      "Try using .loc[row_indexer,col_indexer] = value instead\n",
      "\n",
      "See the caveats in the documentation: http://pandas.pydata.org/pandas-docs/stable/indexing.html#indexing-view-versus-copy\n",
      "  \n"
     ]
    }
   ],
   "source": [
    "CleanGeoData['Coordinates'] = list(zip(CleanGeoData['longitude'], CleanGeoData['latitude']));\n",
    "CleanGeoData['Coordinates'] = CleanGeoData['Coordinates'].apply(Point);\n",
    "gdf = gpd.GeoDataFrame(CleanGeoData, geometry='Coordinates');\n",
    "usa = gpd.read_file('cb_2017_us_state_500k.shp');"
   ]
  },
  {
   "cell_type": "code",
   "execution_count": 72,
   "metadata": {},
   "outputs": [
    {
     "data": {
      "image/png": "[encoded data removed]",
      "text/plain": [
       "<Figure size 1332x756 with 1 Axes>"
      ]
     },
     "metadata": {},
     "output_type": "display_data"
    }
   ],
   "source": [
    "ax = usa.plot(\n",
    "    color='white', edgecolor='black');\n",
    "\n",
    "ax.set_xlim(-92, -83);\n",
    "ax.set_ylim( 38, 47);\n",
    "\n",
    "# We can now plot our GeoDataFrame.\n",
    "gdf.plot(ax=ax, color='red');\n",
    "\n",
    "fig = plt.gcf()\n",
    "fig.set_size_inches(18.5, 10.5)\n",
    "fig.savefig('test2png.png', dpi=100)\n",
    "\n",
    "plt.show();"
   ]
  },
  {
   "cell_type": "code",
   "execution_count": 79,
   "metadata": {},
   "outputs": [
    {
     "data": {
      "text/plain": [
       "0       0.0\n",
       "1       0.0\n",
       "2       0.0\n",
       "3       0.0\n",
       "4       0.0\n",
       "5       0.0\n",
       "6       0.0\n",
       "7       0.0\n",
       "8       0.0\n",
       "9       0.0\n",
       "10      0.0\n",
       "11      0.0\n",
       "12      0.0\n",
       "13      0.0\n",
       "14      0.0\n",
       "15      0.0\n",
       "16      0.0\n",
       "17      0.0\n",
       "18      0.0\n",
       "19      0.0\n",
       "20      0.0\n",
       "21      0.0\n",
       "22      0.0\n",
       "23      0.0\n",
       "24      0.0\n",
       "25      0.0\n",
       "26      0.0\n",
       "27      0.0\n",
       "28      0.0\n",
       "29      0.0\n",
       "       ... \n",
       "2812    0.0\n",
       "2813    0.0\n",
       "2814    0.0\n",
       "2815    0.0\n",
       "2816    0.0\n",
       "2817    0.0\n",
       "2818    0.0\n",
       "2819    0.0\n",
       "2820    0.0\n",
       "2821    0.0\n",
       "2822    0.0\n",
       "2823    0.0\n",
       "2824    0.0\n",
       "2825    0.0\n",
       "2826    0.0\n",
       "2827    0.0\n",
       "2828    0.0\n",
       "2829    0.0\n",
       "2830    0.0\n",
       "2831    0.0\n",
       "2832    0.0\n",
       "2833    0.0\n",
       "2834    0.0\n",
       "2835    0.0\n",
       "2836    0.0\n",
       "2837    0.0\n",
       "2838    0.0\n",
       "2839    0.0\n",
       "2840    0.0\n",
       "2841    0.0\n",
       "Length: 2737, dtype: float64"
      ]
     },
     "execution_count": 79,
     "metadata": {},
     "output_type": "execute_result"
    }
   ],
   "source": [
    "gdf.length()"
   ]
  },
  {
   "cell_type": "code",
   "execution_count": null,
   "metadata": {},
   "outputs": [],
   "source": []
  },
  {
   "cell_type": "code",
   "execution_count": null,
   "metadata": {},
   "outputs": [],
   "source": []
  }
 ],
 "metadata": {
  "kernelspec": {
   "display_name": "Python 3",
   "language": "python",
   "name": "python3"
  },
  "language_info": {
   "codemirror_mode": {
    "name": "ipython",
    "version": 3
   },
   "file_extension": ".py",
   "mimetype": "text/x-python",
   "name": "python",
   "nbconvert_exporter": "python",
   "pygments_lexer": "ipython3",
   "version": "3.6.5"
  }
 },
 "nbformat": 4,
 "nbformat_minor": 2
}
